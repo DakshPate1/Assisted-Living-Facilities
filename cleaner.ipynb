{
 "cells": [
  {
   "cell_type": "code",
   "execution_count": 1,
   "id": "5ba3a844-ba54-4401-850f-62a2280a617e",
   "metadata": {},
   "outputs": [],
   "source": [
    "import pandas as pd"
   ]
  },
  {
   "cell_type": "code",
   "execution_count": 10,
   "id": "ace39dcc-77d7-4506-8890-45388c4a92af",
   "metadata": {},
   "outputs": [
    {
     "name": "stdout",
     "output_type": "stream",
     "text": [
      "1793\n",
      "38\n"
     ]
    },
    {
     "data": {
      "text/plain": [
       "Entity                                   0\n",
       "Code                                     0\n",
       "Year                                     0\n",
       "Health expenditure per capita - Total    0\n",
       "dtype: int64"
      ]
     },
     "execution_count": 10,
     "metadata": {},
     "output_type": "execute_result"
    }
   ],
   "source": [
    "# Assuming your dataset is loaded into a DataFrame\n",
    "df = pd.read_csv('health-expenditure-and-financing-per-capita.csv')  # Replace with your dataset file path\n",
    "\n",
    "print(len(df))\n",
    "# Filter to keep only the most recent entry for each country, which is for the year 2021\n",
    "latest_df = df[df['Year'] == 2022]\n",
    "\n",
    "# Optionally, if you have duplicates for the year 2021 and need only one entry per country, you can use:\n",
    "latest_df = latest_df.drop_duplicates(subset='Entity', keep='first')\n",
    "\n",
    "# Show the resulting filtered data\n",
    "print(len(latest_df))\n",
    "\n",
    "latest_df.isnull().sum()"
   ]
  },
  {
   "cell_type": "code",
   "execution_count": null,
   "id": "2d984f4d-61c9-42df-b211-321b72b40b62",
   "metadata": {},
   "outputs": [],
   "source": []
  },
  {
   "cell_type": "code",
   "execution_count": 11,
   "id": "8cbdc218-280f-46af-b487-b2fab3464b28",
   "metadata": {},
   "outputs": [
    {
     "name": "stdout",
     "output_type": "stream",
     "text": [
      "Empty DataFrame\n",
      "Columns: [Entity, Code, Year, Health expenditure per capita - Total]\n",
      "Index: []\n"
     ]
    }
   ],
   "source": [
    "nan_rows = latest_df[latest_df['Code'].isna()]\n",
    "\n",
    "# Show the rows with NaN values in the 'Code' column\n",
    "print(nan_rows)"
   ]
  },
  {
   "cell_type": "code",
   "execution_count": 12,
   "id": "a93dc7f0-ab82-4759-af3a-dfcdccd3b38e",
   "metadata": {},
   "outputs": [
    {
     "name": "stdout",
     "output_type": "stream",
     "text": [
      "              Entity Code  Year  Health expenditure per capita - Total\n",
      "68         Australia  AUS  2022                               5449.610\n",
      "121          Austria  AUT  2022                               5683.874\n",
      "174          Belgium  BEL  2022                               5200.518\n",
      "267           Canada  CAN  2022                               5330.794\n",
      "290            Chile  CHL  2022                               2234.293\n",
      "334         Colombia  COL  2022                               1272.035\n",
      "357       Costa Rica  CRI  2022                               1461.377\n",
      "428          Czechia  CZE  2022                               3559.401\n",
      "480          Denmark  DNK  2022                               5052.088\n",
      "504          Estonia  EST  2022                               2549.787\n",
      "557          Finland  FIN  2022                               4644.606\n",
      "594           France  FRA  2022                               5248.809\n",
      "646          Germany  DEU  2022                               6448.205\n",
      "681           Greece  GRC  2022                               2524.784\n",
      "713          Hungary  HUN  2022                               2393.190\n",
      "766          Iceland  ISL  2022                               4377.779\n",
      "840          Ireland  IRL  2022                               5353.010\n",
      "868           Israel  ISR  2022                               2948.262\n",
      "903            Italy  ITA  2022                               3324.336\n",
      "956            Japan  JPN  2022                               5014.375\n",
      "979           Latvia  LVA  2022                               2787.699\n",
      "1002       Lithuania  LTU  2022                               2824.841\n",
      "1049      Luxembourg  LUX  2022                               5545.776\n",
      "1091          Mexico  MEX  2022                               1041.369\n",
      "1142     Netherlands  NLD  2022                               5312.323\n",
      "1195     New Zealand  NZL  2022                               4811.857\n",
      "1248          Norway  NOR  2022                               6239.542\n",
      "1295          Poland  POL  2022                               2488.808\n",
      "1348        Portugal  PRT  2022                               3480.329\n",
      "1393        Slovakia  SVK  2022                               2581.432\n",
      "1416        Slovenia  SVN  2022                               3286.080\n",
      "1479     South Korea  KOR  2022                               4223.628\n",
      "1532           Spain  ESP  2022                               3632.969\n",
      "1585          Sweden  SWE  2022                               5309.833\n",
      "1638     Switzerland  CHE  2022                               6927.356\n",
      "1686          Turkey  TUR  2022                               1653.348\n",
      "1739  United Kingdom  GBR  2022                               4551.586\n",
      "1792   United States  USA  2022                              10331.449\n"
     ]
    }
   ],
   "source": [
    "df_cleaned = latest_df.dropna(subset=['Code'])\n",
    "\n",
    "# Show the cleaned DataFrame\n",
    "print(df_cleaned)"
   ]
  },
  {
   "cell_type": "code",
   "execution_count": 13,
   "id": "b4f430d3-8c39-46ab-aa4c-a930d7786142",
   "metadata": {},
   "outputs": [
    {
     "data": {
      "text/plain": [
       "Entity                                   0\n",
       "Code                                     0\n",
       "Year                                     0\n",
       "Health expenditure per capita - Total    0\n",
       "dtype: int64"
      ]
     },
     "execution_count": 13,
     "metadata": {},
     "output_type": "execute_result"
    }
   ],
   "source": [
    "df_cleaned.isnull().sum()"
   ]
  },
  {
   "cell_type": "code",
   "execution_count": 14,
   "id": "6c8b9c49-2400-4796-9da8-bcb0ed862b3c",
   "metadata": {},
   "outputs": [],
   "source": [
    "df_cleaned.to_csv('latest_health_expenditure_per capita.csv', index=False)"
   ]
  },
  {
   "cell_type": "code",
   "execution_count": null,
   "id": "28d0b07a-c20e-4c90-b5eb-47a570dee9e1",
   "metadata": {},
   "outputs": [],
   "source": []
  },
  {
   "cell_type": "code",
   "execution_count": null,
   "id": "bf9df18e-9e3f-4eda-8aa0-ecf5915e2027",
   "metadata": {},
   "outputs": [],
   "source": []
  },
  {
   "cell_type": "code",
   "execution_count": null,
   "id": "f3a09f35-0ed1-452d-8dab-938bbf496309",
   "metadata": {},
   "outputs": [],
   "source": []
  }
 ],
 "metadata": {
  "kernelspec": {
   "display_name": "Python 3 (ipykernel)",
   "language": "python",
   "name": "python3"
  },
  "language_info": {
   "codemirror_mode": {
    "name": "ipython",
    "version": 3
   },
   "file_extension": ".py",
   "mimetype": "text/x-python",
   "name": "python",
   "nbconvert_exporter": "python",
   "pygments_lexer": "ipython3",
   "version": "3.11.4"
  }
 },
 "nbformat": 4,
 "nbformat_minor": 5
}
